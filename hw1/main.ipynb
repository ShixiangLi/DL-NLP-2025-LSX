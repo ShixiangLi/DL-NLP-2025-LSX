{
 "cells": [
  {
   "cell_type": "code",
   "execution_count": 1,
   "metadata": {},
   "outputs": [],
   "source": [
    "import os\n",
    "import re\n",
    "import jieba\n",
    "import docx\n",
    "import math\n",
    "from nltk import FreqDist, word_tokenize\n",
    "from collections import Counter\n",
    "from tqdm import tqdm\n",
    "import matplotlib.pyplot as plt\n",
    "\n",
    "# 设置matplotlib支持中文显示\n",
    "plt.rcParams['font.sans-serif'] = ['SimHei']  # 用来正常显示中文标签\n",
    "plt.rcParams['axes.unicode_minus'] = False  # 用来正常显示负号"
   ]
  },
  {
   "cell_type": "markdown",
   "metadata": {},
   "source": [
    "# 中文语料信息熵计算"
   ]
  },
  {
   "cell_type": "code",
   "execution_count": 2,
   "metadata": {},
   "outputs": [
    {
     "name": "stderr",
     "output_type": "stream",
     "text": [
      "Processing folders: 100%|██████████| 13/13 [00:47<00:00,  3.67s/it]\n"
     ]
    },
    {
     "name": "stdout",
     "output_type": "stream",
     "text": [
      "Total corpus length: 565215433 characters\n"
     ]
    }
   ],
   "source": [
    "# 1. 读取解压后的wiki_zh_2019数据\n",
    "folder_path = 'data/wiki_zh'  # 请根据实际路径调整\n",
    "corpus_parts = []\n",
    "\n",
    "for childfolder in tqdm(os.listdir(folder_path), desc=\"Processing folders\"):\n",
    "    childfolder_path = os.path.join(folder_path, childfolder)\n",
    "    if os.path.isdir(childfolder_path):\n",
    "        for filename in os.listdir(childfolder_path):\n",
    "            file_path = os.path.join(childfolder_path, filename)\n",
    "            if os.path.isfile(file_path):\n",
    "                try:\n",
    "                    with open(file_path, 'r', encoding='utf-8') as file:\n",
    "                        corpus_parts.append(file.read())\n",
    "                except Exception as e:\n",
    "                    print(f\"Error reading {file_path}: {e}\")\n",
    "\n",
    "# 合并所有文本为一个大字符串\n",
    "corpus = ''.join(corpus_parts)\n",
    "print(f\"Total corpus length: {len(corpus)} characters\")"
   ]
  },
  {
   "cell_type": "code",
   "execution_count": 3,
   "metadata": {},
   "outputs": [],
   "source": [
    "# 2. 提取中文字符\n",
    "text_processed = re.sub(r'[^\\u4e00-\\u9fa5。，！？、；：“”‘’（）]', '', corpus)"
   ]
  },
  {
   "cell_type": "code",
   "execution_count": null,
   "metadata": {},
   "outputs": [
    {
     "name": "stdout",
     "output_type": "stream",
     "text": [
      "Total words: 220299972\n",
      "Sample words: ['数学', '数学', '数学', '是', '利用', '符号语言', '研究', '数量', '、', '结构', '、', '变化', '以及', '空间', '等', '概念', '的', '一门', '学科', '，']\n"
     ]
    }
   ],
   "source": [
    "# 3. 分词\n",
    "words = jieba.cut(text_processed, cut_all=False)\n",
    "word_list = list(words)\n",
    "\n",
    "print(f\"Total words: {len(word_list)}\")\n",
    "print(f\"Sample words: {word_list[:20]}\")"
   ]
  },
  {
   "cell_type": "code",
   "execution_count": null,
   "metadata": {},
   "outputs": [],
   "source": [
    "# 4. 计算词频\n",
    "fdist = FreqDist(word_list)"
   ]
  },
  {
   "cell_type": "code",
   "execution_count": 29,
   "metadata": {},
   "outputs": [],
   "source": [
    "# 5. 计算信息熵\n",
    "def calculate_entropy(fdist):\n",
    "    total = sum(fdist.values())\n",
    "    entropy = 0\n",
    "    for count in fdist.values():\n",
    "        prob = count / total\n",
    "        entropy -= prob * math.log2(prob)\n",
    "    return entropy"
   ]
  },
  {
   "cell_type": "code",
   "execution_count": 30,
   "metadata": {},
   "outputs": [
    {
     "name": "stdout",
     "output_type": "stream",
     "text": [
      "词级别的平均信息熵: 12.1443\n"
     ]
    }
   ],
   "source": [
    "# 6. 输出平均信息熵\n",
    "# 计算每个词的信息熵\n",
    "word_entropy = calculate_entropy(fdist)\n",
    "print(f\"词级别的平均信息熵: {word_entropy:.4f}\")\n"
   ]
  },
  {
   "cell_type": "code",
   "execution_count": 8,
   "metadata": {},
   "outputs": [],
   "source": [
    "# 以字为单位的字频计算\n",
    "char_list = list(text_processed)\n",
    "char_freq = Counter(char_list)"
   ]
  },
  {
   "cell_type": "code",
   "execution_count": 9,
   "metadata": {},
   "outputs": [],
   "source": [
    "# 计算字的总数\n",
    "total_chars = sum(char_freq.values())"
   ]
  },
  {
   "cell_type": "code",
   "execution_count": 10,
   "metadata": {},
   "outputs": [
    {
     "name": "stdout",
     "output_type": "stream",
     "text": [
      "字级别的平均信息熵: 9.5881\n"
     ]
    }
   ],
   "source": [
    "# 计算每个字的信息熵\n",
    "char_entropy = calculate_entropy(char_freq)\n",
    "print(f\"字级别的平均信息熵: {char_entropy:.4f}\")"
   ]
  },
  {
   "cell_type": "code",
   "execution_count": 31,
   "metadata": {},
   "outputs": [
    {
     "data": {
      "image/png": "[encoded data removed]",
      "text/plain": [
       "<Figure size 1200x500 with 2 Axes>"
      ]
     },
     "metadata": {},
     "output_type": "display_data"
    },
    {
     "name": "stdout",
     "output_type": "stream",
     "text": [
      "中文语料库单词级别的信息熵: 12.1443\n",
      "中文语料库字母级别的信息熵: 9.5881\n"
     ]
    }
   ],
   "source": [
    "# 可视化\n",
    "plt.figure(figsize=(12, 5))\n",
    "\n",
    "# 单词频率可视化\n",
    "top_words = fdist.most_common(10)\n",
    "words, freqs = zip(*top_words)\n",
    "plt.subplot(1, 2, 1)\n",
    "plt.bar(words, freqs, color='skyblue')\n",
    "plt.title('Top 10 Words in Chinese Corpus')\n",
    "\n",
    "# 字母频率可视化\n",
    "top_letters = char_freq.most_common(10)\n",
    "letters, freqs = zip(*top_letters)\n",
    "plt.subplot(1, 2, 2)\n",
    "plt.bar(letters, freqs, color='salmon')\n",
    "plt.title('Top 10 Letters in Chinese Corpus')\n",
    "\n",
    "plt.tight_layout()\n",
    "plt.show()\n",
    "\n",
    "print(f'中文语料库单词级别的信息熵: {word_entropy:.4f}')\n",
    "print(f'中文语料库字母级别的信息熵: {char_entropy:.4f}')"
   ]
  },
  {
   "cell_type": "markdown",
   "metadata": {},
   "source": [
    "# 英文语料信息熵计算"
   ]
  },
  {
   "cell_type": "code",
   "execution_count": 12,
   "metadata": {},
   "outputs": [],
   "source": [
    "# 1. 读取.docx文件并提取文本\n",
    "def extract_text_from_docx(file_path):\n",
    "    doc = docx.Document(file_path)\n",
    "    full_text = []\n",
    "    for para in doc.paragraphs:\n",
    "        full_text.append(para.text)\n",
    "    return '\\n'.join(full_text)\n",
    "\n",
    "# 2. 计算信息熵\n",
    "def calculate_entropy(fdist):\n",
    "    total = sum(fdist.values())\n",
    "    entropy = 0\n",
    "    for count in fdist.values():\n",
    "        prob = count / total\n",
    "        entropy -= prob * math.log2(prob)\n",
    "    return entropy\n",
    "\n"
   ]
  },
  {
   "cell_type": "code",
   "execution_count": 13,
   "metadata": {},
   "outputs": [],
   "source": [
    "# 3. 提取英文语料\n",
    "file_path = 'data/Gutenberg Corpus.docx'\n",
    "corpus = extract_text_from_docx(file_path)"
   ]
  },
  {
   "cell_type": "code",
   "execution_count": 14,
   "metadata": {},
   "outputs": [],
   "source": [
    "# 单词级别处理\n",
    "cleaned_corpus = re.sub(r'[^a-zA-Z\\s]', '', corpus)\n",
    "words = word_tokenize(cleaned_corpus.lower())\n",
    "word_dist = FreqDist(words)\n",
    "word_entropy = calculate_entropy(word_dist)\n",
    "\n",
    "# 字母级别处理\n",
    "letters = re.findall(r'[a-zA-Z]', corpus)\n",
    "letter_dist = FreqDist(letters)\n",
    "letter_entropy = calculate_entropy(letter_dist)"
   ]
  },
  {
   "cell_type": "code",
   "execution_count": 15,
   "metadata": {},
   "outputs": [
    {
     "data": {
      "image/png": "[encoded data removed]",
      "text/plain": [
       "<Figure size 1200x500 with 2 Axes>"
      ]
     },
     "metadata": {},
     "output_type": "display_data"
    },
    {
     "name": "stdout",
     "output_type": "stream",
     "text": [
      "英文语料库单词级别的信息熵: 7.6777\n",
      "英文语料库字母级别的信息熵: 4.3908\n"
     ]
    }
   ],
   "source": [
    "# 可视化\n",
    "plt.figure(figsize=(12, 5))\n",
    "\n",
    "# 单词频率可视化\n",
    "top_words = word_dist.most_common(10)\n",
    "words, freqs = zip(*top_words)\n",
    "plt.subplot(1, 2, 1)\n",
    "plt.bar(words, freqs, color='skyblue')\n",
    "plt.title('Top 10 Words in English Corpus')\n",
    "\n",
    "# 字母频率可视化\n",
    "top_letters = letter_dist.most_common(10)\n",
    "letters, freqs = zip(*top_letters)\n",
    "plt.subplot(1, 2, 2)\n",
    "plt.bar(letters, freqs, color='salmon')\n",
    "plt.title('Top 10 Letters in English Corpus')\n",
    "\n",
    "plt.tight_layout()\n",
    "plt.show()\n",
    "\n",
    "print(f'英文语料库单词级别的信息熵: {word_entropy:.4f}')\n",
    "print(f'英文语料库字母级别的信息熵: {letter_entropy:.4f}')"
   ]
  },
  {
   "cell_type": "code",
   "execution_count": null,
   "metadata": {},
   "outputs": [],
   "source": []
  },
  {
   "cell_type": "code",
   "execution_count": null,
   "metadata": {},
   "outputs": [],
   "source": []
  },
  {
   "cell_type": "code",
   "execution_count": null,
   "metadata": {},
   "outputs": [],
   "source": []
  },
  {
   "cell_type": "code",
   "execution_count": null,
   "metadata": {},
   "outputs": [],
   "source": []
  }
 ],
 "metadata": {
  "kernelspec": {
   "display_name": ".venv",
   "language": "python",
   "name": "python3"
  },
  "language_info": {
   "codemirror_mode": {
    "name": "ipython",
    "version": 3
   },
   "file_extension": ".py",
   "mimetype": "text/x-python",
   "name": "python",
   "nbconvert_exporter": "python",
   "pygments_lexer": "ipython3",
   "version": "3.9.6"
  }
 },
 "nbformat": 4,
 "nbformat_minor": 2
}
